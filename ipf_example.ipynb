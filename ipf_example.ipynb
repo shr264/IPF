{
 "cells": [
  {
   "cell_type": "markdown",
   "metadata": {},
   "source": [
    "# Iteratated Proportional Fitting"
   ]
  },
  {
   "cell_type": "markdown",
   "metadata": {},
   "source": [
    "Iterated Proportional Fitting (IPF) is used to get estimates for the joing distribution given we have the marginal distribution. Below is an example implementing this via a toy example."
   ]
  },
  {
   "cell_type": "code",
   "execution_count": 4,
   "metadata": {},
   "outputs": [],
   "source": [
    "import numpy as np\n",
    "import pandas as pd\n",
    "from ipf import ipf\n",
    "from IPython.display import HTML, display\n",
    "import tabulate"
   ]
  },
  {
   "cell_type": "markdown",
   "metadata": {},
   "source": [
    "The table below shows a toy table with some initial values and the known marginal distribution. "
   ]
  },
  {
   "cell_type": "code",
   "execution_count": 11,
   "metadata": {},
   "outputs": [
    {
     "data": {
      "text/html": [
       "<table>\n",
       "<tbody>\n",
       "<tr><td>Age/Gender      </td><td>Age Group 1</td><td>Age Group 2</td><td>Age Group 3</td><td>Gender Group Totals</td></tr>\n",
       "<tr><td>Gender Group 1  </td><td>6          </td><td>6          </td><td>4          </td><td>20                 </td></tr>\n",
       "<tr><td>Gender Group 2  </td><td>8          </td><td>10         </td><td>10         </td><td>30                 </td></tr>\n",
       "<tr><td>Gender Group 3  </td><td>9          </td><td>10         </td><td>9          </td><td>35                 </td></tr>\n",
       "<tr><td>Gender Group 4  </td><td>3          </td><td>14         </td><td>8          </td><td>15                 </td></tr>\n",
       "<tr><td>Age Group Totals</td><td>35         </td><td>40         </td><td>25         </td><td>                   </td></tr>\n",
       "</tbody>\n",
       "</table>"
      ],
      "text/plain": [
       "<IPython.core.display.HTML object>"
      ]
     },
     "metadata": {},
     "output_type": "display_data"
    }
   ],
   "source": [
    "table = [['Age/Gender','Age Group 1','Age Group 2','Age Group 3','Gender Group Totals'],\n",
    "    ['Gender Group 1', 6,6,4,20],\n",
    "         ['Gender Group 2', 8,10,10,30],\n",
    "         ['Gender Group 3', 9,10,9,35],\n",
    "         ['Gender Group 4', 3,14,8,15],\n",
    "        ['Age Group Totals',35,40,25,]]\n",
    "display(HTML(tabulate.tabulate(table, tablefmt='html')))"
   ]
  },
  {
   "cell_type": "code",
   "execution_count": 13,
   "metadata": {},
   "outputs": [],
   "source": [
    "x = np.array([[6,6,3],[8,10,10],[9,10,9],[3,14,8]])\n",
    "row_total = np.array([20,30,35,15])\n",
    "col_total = np.array([35,40,25])"
   ]
  },
  {
   "cell_type": "code",
   "execution_count": 14,
   "metadata": {},
   "outputs": [
    {
     "data": {
      "text/plain": [
       "array([[ 9.45261635,  8.07789398,  3.25052241],\n",
       "       [10.12780323, 10.81860801,  8.70675644],\n",
       "       [13.29274174, 12.62170934,  9.14209427],\n",
       "       [ 2.12683868,  8.48178868,  3.90062689]])"
      ]
     },
     "execution_count": 14,
     "metadata": {},
     "output_type": "execute_result"
    }
   ],
   "source": [
    "ipf_2D(row_total, col_total, x, maxitr = 100)"
   ]
  },
  {
   "cell_type": "code",
   "execution_count": 15,
   "metadata": {},
   "outputs": [
    {
     "data": {
      "text/plain": [
       "array([[ 7.49519304,  8.13707858,  6.35933126],\n",
       "       [ 8.7870433 ,  9.53956242,  7.45540759],\n",
       "       [ 9.51421012, 10.32900353,  8.07237565],\n",
       "       [ 6.92233879,  7.51516531,  5.87329042]])"
      ]
     },
     "execution_count": 15,
     "metadata": {},
     "output_type": "execute_result"
    }
   ],
   "source": [
    "ipf_2D_poisson(row_total, col_total, x)"
   ]
  },
  {
   "cell_type": "code",
   "execution_count": null,
   "metadata": {},
   "outputs": [],
   "source": []
  }
 ],
 "metadata": {
  "kernelspec": {
   "display_name": "Python 3",
   "language": "python",
   "name": "python3"
  },
  "language_info": {
   "codemirror_mode": {
    "name": "ipython",
    "version": 3
   },
   "file_extension": ".py",
   "mimetype": "text/x-python",
   "name": "python",
   "nbconvert_exporter": "python",
   "pygments_lexer": "ipython3",
   "version": "3.6.4"
  }
 },
 "nbformat": 4,
 "nbformat_minor": 2
}
